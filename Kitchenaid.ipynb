{
 "cells": [
  {
   "cell_type": "code",
   "execution_count": 1,
   "metadata": {},
   "outputs": [
    {
     "name": "stdout",
     "output_type": "stream",
     "text": [
      "Requirement already satisfied: selenium in c:\\programdata\\anaconda3\\lib\\site-packages (3.141.0)\n",
      "Requirement already satisfied: urllib3 in c:\\programdata\\anaconda3\\lib\\site-packages (from selenium) (1.24.2)\n",
      "El driver fue instalado correctamente\n"
     ]
    }
   ],
   "source": [
    "#Instalar el paquete que controla el navegador\n",
    "!pip install selenium\n",
    "\n",
    "#Descargar el Driver en :https://sites.google.com/a/chromium.org/chromedriver/downloads\n",
    "\n",
    "#importar y chequer si selenium funciona\n",
    "\n",
    "from selenium import webdriver\n",
    "from selenium.webdriver.support.ui import WebDriverWait     \n",
    "from selenium.webdriver.common.by import By     \n",
    "from selenium.webdriver.support import expected_conditions as EC\n",
    "from selenium.common.exceptions import TimeoutException\n",
    "from selenium.webdriver.support.select import Select\n",
    "import openpyxl\n",
    "from openpyxl import load_workbook\n",
    "import re\n",
    "import itertools\n",
    "import time \n",
    "import pandas as pd\n",
    "\n",
    "# selecionando nuestro webbrowser (selecionar la ubicación donde este el driver)\n",
    "try:\n",
    "    driver = webdriver.Chrome(\"C:/Users/Acer/Desktop/CCE_Python/WebDriver/chromedriver80\")\n",
    "except:\n",
    "    driver = webdriver.Chrome(\"C:/Users/Acer/Desktop/CCE_Python/WebDriver/chromedriver86\")\n",
    "    print(\"El driver fue instalado correctamente\")"
   ]
  },
  {
   "cell_type": "code",
   "execution_count": null,
   "metadata": {},
   "outputs": [],
   "source": [
    "#pagina donde va a buscar\n",
    "#Kitchenaid_Colombia\n",
    "driver.maximize_window()\n",
    "\n",
    "docs = openpyxl.load_workbook (\"Categorias.xlsx\")\n",
    "hoja = docs.get_sheet_by_name(\"Kitchenaid\")\n",
    "\n",
    "itemsM = []\n",
    "for columna in hoja.iter_rows():\n",
    "    bien = columna[0].value\n",
    "    itemsM.append(bien)"
   ]
  },
  {
   "cell_type": "code",
   "execution_count": null,
   "metadata": {},
   "outputs": [],
   "source": [
    "driver.get(\"https://www.kitchenaid.com.co/\")"
   ]
  },
  {
   "cell_type": "code",
   "execution_count": null,
   "metadata": {},
   "outputs": [],
   "source": [
    "linksKa = []\n",
    "priceKa = []\n",
    "descKa = []\n",
    "codesKa = []\n",
    "timeKa = []\n",
    "obj = []\n",
    "codesMp = []\n",
    "timeMF = []\n",
    "\n",
    "#Barra de búsqueda java\n",
    "#<input id=\"ftBoxf2ac66263a15415a8a3b252a11070b1b\" class=\"fulltext-search-box ui-autocomplete-input\" type=\"text\" size=\"20\" accesskey=\"b\" autocomplete=\"off\" role=\"textbox\" aria-autocomplete=\"list\" aria-haspopup=\"true\">\n",
    "\n",
    "from selenium.webdriver.common.keys import Keys\n",
    "for item in itemsM:\n",
    "    searchBar = WebDriverWait(driver, 200).until(lambda x: x.find_element_by_id(\"ftBoxf2ac66263a15415a8a3b252a11070b1b\")) #Selecionar la barra de busqueda\n",
    "    searchBar.send_keys(item) #escribir en la barra de busqueda\n",
    "    searchBar.submit() #Enviar la busqueda sortNumber1\n",
    "    print(item)\n",
    "    sort = WebDriverWait(driver, 20).until(lambda x: x.find_element_by_id(\"sortNumber1\"))\n",
    "    sort.send_keys(\"50\")\n",
    "    #sort = WebDriverWait(driver, 200).until(lambda x: x.find_element_by_id(\"sortNumber1\"))\n",
    "    #sort.send_keys(\"50\") #amplia la busqueda a 50 items por subcategoria\n",
    "    #driver.execute_script(\"window.scrollTo(0, document.body.scrollHeight);\")\n",
    "    time.sleep(3)\n",
    "    SCROLL_PAUSE_TIME = 0.5\n"
   ]
  }
 ],
 "metadata": {
  "kernelspec": {
   "display_name": "Python 3",
   "language": "python",
   "name": "python3"
  },
  "language_info": {
   "codemirror_mode": {
    "name": "ipython",
    "version": 3
   },
   "file_extension": ".py",
   "mimetype": "text/x-python",
   "name": "python",
   "nbconvert_exporter": "python",
   "pygments_lexer": "ipython3",
   "version": "3.7.3"
  }
 },
 "nbformat": 4,
 "nbformat_minor": 2
}
